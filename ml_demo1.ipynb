{
 "cells": [
  {
   "cell_type": "markdown",
   "metadata": {},
   "source": [
    "Using Time Series LSTM for python I am going to predict the potential future amount of parts within the materials in the Mt. Holly Plant"
   ]
  },
  {
   "cell_type": "code",
   "execution_count": 1,
   "metadata": {},
   "outputs": [
    {
     "name": "stderr",
     "output_type": "stream",
     "text": [
      "WARNING:root:'PYARROW_IGNORE_TIMEZONE' environment variable was not set. It is required to set this environment variable to '1' in both driver and executor sides if you use pyarrow>=2.0.0. pandas-on-Spark will set it for you but it does not work if there is a Spark context already launched.\n"
     ]
    }
   ],
   "source": [
    "import gspread\n",
    "import numpy as np\n",
    "import pyspark.pandas as ps\n",
    "import numba\n",
    "from numba import jit\n",
    "import os\n",
    "import json\n",
    "from datetime import *"
   ]
  },
  {
   "cell_type": "markdown",
   "metadata": {},
   "source": [
    "First task is to import the data into a Spark Dataframe & clean the dataframe"
   ]
  },
  {
   "cell_type": "code",
   "execution_count": 10,
   "metadata": {},
   "outputs": [
    {
     "name": "stderr",
     "output_type": "stream",
     "text": [
      "Setting default log level to \"WARN\".\n",
      "To adjust logging level use sc.setLogLevel(newLevel). For SparkR, use setLogLevel(newLevel).\n"
     ]
    },
    {
     "name": "stdout",
     "output_type": "stream",
     "text": [
      "22/10/27 01:40:53 WARN NativeCodeLoader: Unable to load native-hadoop library for your platform... using builtin-java classes where applicable\n"
     ]
    }
   ],
   "source": [
    "#setup spark env & import spark variables\n",
    "from pyspark.sql import SparkSession\n",
    "spark = SparkSession.builder.getOrCreate()"
   ]
  },
  {
   "cell_type": "code",
   "execution_count": 4,
   "metadata": {},
   "outputs": [],
   "source": [
    "#call to the dataset within Google Sheets\n",
    "sa = gspread.service_account(filename=\"/com.docker.devenvironments.code/kuthesisdataclean-558333f9362c.json\")"
   ]
  },
  {
   "cell_type": "code",
   "execution_count": 35,
   "metadata": {},
   "outputs": [],
   "source": [
    "@jit\n",
    "def get_data(sa):\n",
    "    sheet = sa.open(\"POU_Unclean_Data\")\n",
    "    work_sheet = sheet.worksheet(\"POU\")\n",
    "    rows = work_sheet.get_all_values()\n",
    "    columns = ['Item_no', 'Item_description', 'Quantity', 'Status', 'Serial Number','Reason Code', 'Shortage_notes', 'Team_found', 'Team_Resp', 'Date_Found', 'Time_Found_Pacific','short_found_emp_id', 'date_chassis_start', 'date_veh_offln', 'date_mfg_rise', 'prim_shop_addr', 'scd_shop_addr_1', 'scd_shop_addr_2', 'scd_shop_addr_3', 'scd_shop_addr_4']\n",
    "    df = spark.createDataFrame(rows, columns)\n",
    "    df = df.where(df.Item_no!='Item_no')\n",
    "    return df"
   ]
  },
  {
   "cell_type": "code",
   "execution_count": 36,
   "metadata": {},
   "outputs": [
    {
     "name": "stderr",
     "output_type": "stream",
     "text": [
      "/tmp/ipykernel_16043/786872232.py:1: NumbaWarning: \n",
      "Compilation is falling back to object mode WITH looplifting enabled because Function \"get_data\" failed type inference due to: Untyped global name 'spark': Cannot determine Numba type of <class 'pyspark.sql.session.SparkSession'>\n",
      "\n",
      "File \"tmp/ipykernel_16043/786872232.py\", line 7:\n",
      "<source missing, REPL/exec in use?>\n",
      "\n",
      "  @jit\n",
      "/home/vscode/micromamba/envs/py39/lib/python3.10/site-packages/numba/core/object_mode_passes.py:151: NumbaWarning: Function \"get_data\" was compiled in object mode without forceobj=True.\n",
      "\n",
      "File \"tmp/ipykernel_16043/786872232.py\", line 1:\n",
      "<source missing, REPL/exec in use?>\n",
      "\n",
      "  warnings.warn(errors.NumbaWarning(warn_msg,\n",
      "/home/vscode/micromamba/envs/py39/lib/python3.10/site-packages/numba/core/object_mode_passes.py:161: NumbaDeprecationWarning: \n",
      "Fall-back from the nopython compilation path to the object mode compilation path has been detected, this is deprecated behaviour.\n",
      "\n",
      "For more information visit https://numba.readthedocs.io/en/stable/reference/deprecation.html#deprecation-of-object-mode-fall-back-behaviour-when-using-jit\n",
      "\n",
      "File \"tmp/ipykernel_16043/786872232.py\", line 1:\n",
      "<source missing, REPL/exec in use?>\n",
      "\n",
      "  warnings.warn(errors.NumbaDeprecationWarning(msg,\n"
     ]
    }
   ],
   "source": [
    "df = get_data(sa)\n"
   ]
  },
  {
   "cell_type": "code",
   "execution_count": 39,
   "metadata": {},
   "outputs": [
    {
     "name": "stdout",
     "output_type": "stream",
     "text": [
      "root\n",
      " |-- Item_no: string (nullable = true)\n",
      " |-- Item_description: string (nullable = true)\n",
      " |-- Quantity: string (nullable = true)\n",
      " |-- Status: string (nullable = true)\n",
      " |-- Serial Number: string (nullable = true)\n",
      " |-- Reason Code: string (nullable = true)\n",
      " |-- Shortage_notes: string (nullable = true)\n",
      " |-- Team_found: string (nullable = true)\n",
      " |-- Team_Resp: string (nullable = true)\n",
      " |-- Date_Found: string (nullable = true)\n",
      " |-- Time_Found_Pacific: string (nullable = true)\n",
      " |-- short_found_emp_id: string (nullable = true)\n",
      " |-- date_chassis_start: string (nullable = true)\n",
      " |-- date_veh_offln: string (nullable = true)\n",
      " |-- date_mfg_rise: string (nullable = true)\n",
      " |-- prim_shop_addr: string (nullable = true)\n",
      " |-- scd_shop_addr_1: string (nullable = true)\n",
      " |-- scd_shop_addr_2: string (nullable = true)\n",
      " |-- scd_shop_addr_3: string (nullable = true)\n",
      " |-- scd_shop_addr_4: string (nullable = true)\n",
      "\n"
     ]
    }
   ],
   "source": [
    "df.printSchema()\n",
    "#df.show()\n"
   ]
  }
 ],
 "metadata": {
  "kernelspec": {
   "display_name": "Python 3.10.4 ('py39')",
   "language": "python",
   "name": "python3"
  },
  "language_info": {
   "codemirror_mode": {
    "name": "ipython",
    "version": 3
   },
   "file_extension": ".py",
   "mimetype": "text/x-python",
   "name": "python",
   "nbconvert_exporter": "python",
   "pygments_lexer": "ipython3",
   "version": "3.10.4"
  },
  "orig_nbformat": 4,
  "vscode": {
   "interpreter": {
    "hash": "39b3ec054d787909dbf58ca94621dbabd0362452353e65f29fb0758a2d947852"
   }
  }
 },
 "nbformat": 4,
 "nbformat_minor": 2
}
