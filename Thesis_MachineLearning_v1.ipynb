{
  "nbformat": 4,
  "nbformat_minor": 0,
  "metadata": {
    "colab": {
      "provenance": [],
      "authorship_tag": "ABX9TyMQ8UgiOMMvk2ypH65Ms3oM",
      "include_colab_link": true
    },
    "kernelspec": {
      "name": "python3",
      "display_name": "Python 3"
    },
    "language_info": {
      "name": "python"
    }
  },
  "cells": [
    {
      "cell_type": "markdown",
      "metadata": {
        "id": "view-in-github",
        "colab_type": "text"
      },
      "source": [
        "<a href=\"https://colab.research.google.com/github/jethompson023/Kettering-Senior-Thesis-Project/blob/main/Thesis_MachineLearning_v1.ipynb\" target=\"_parent\"><img src=\"https://colab.research.google.com/assets/colab-badge.svg\" alt=\"Open In Colab\"/></a>"
      ]
    },
    {
      "cell_type": "code",
      "execution_count": 57,
      "metadata": {
        "id": "mMySCsDr_iAy"
      },
      "outputs": [],
      "source": [
        "#Imports for our Script\n",
        "import matplotlib.pyplot as plt\n",
        "import pandas as pd\n",
        "import numpy as np\n",
        "import os\n",
        "import json\n",
        "from datetime import *"
      ]
    },
    {
      "cell_type": "code",
      "source": [
        "#Add google authentication ok\n",
        "from google.colab import auth\n",
        "auth.authenticate_user()\n",
        "\n",
        "import gspread\n",
        "from google.auth import default\n",
        "creds, _ = default()\n",
        "\n",
        "gc = gspread.authorize(creds)\n",
        "\n",
        "#Import the data from the Google Sheet\n",
        "workbook = gc.open_by_key('1mjE530k7fYKkPh9VPcqfElrrzMkw59uUTPQ34VWH0wA')\n",
        "worksheet = workbook.worksheet('POU')\n",
        "\n",
        "# get_all_values gives a list of rows.\n",
        "rows = worksheet.get_all_values()\n",
        "\n",
        "# Convert to a DataFrame and render.\n",
        "df = pd.DataFrame.from_records(rows)\n",
        "\n",
        "#Next we are going to format the rows to allow for the data to get into a data frame\n",
        "new_header = df.iloc[0] #grab the first row for the header\n",
        "df = df[0:] #take the data less the header row\n",
        "df.columns = new_header #set the header row as the df header\n",
        "df  = df.drop(labels=0, axis=0)"
      ],
      "metadata": {
        "id": "jnDKpwFrxEKC"
      },
      "execution_count": 96,
      "outputs": []
    },
    {
      "cell_type": "code",
      "source": [
        "ml = pd.DataFrame(columns=['date', 'qty'])\n",
        "ml['date'] = df['Date Found']\n",
        "ml['qty'] = df['Qty']\n",
        "ml = ml.set_index(ml['date'])\n",
        "ml = ml.drop(['date'],axis=1)"
      ],
      "metadata": {
        "id": "TJ6W-CVdzio1"
      },
      "execution_count": 110,
      "outputs": []
    },
    {
      "cell_type": "code",
      "source": [
        "ml.head()"
      ],
      "metadata": {
        "colab": {
          "base_uri": "https://localhost:8080/",
          "height": 238
        },
        "id": "2APratfM43rZ",
        "outputId": "518604cb-abd1-44e3-90a7-b4a447e51a6c"
      },
      "execution_count": 111,
      "outputs": [
        {
          "output_type": "execute_result",
          "data": {
            "text/plain": [
              "           qty\n",
              "date          \n",
              "05/19/2022   2\n",
              "07/25/2022   1\n",
              "07/25/2022   1\n",
              "07/28/2022   1\n",
              "07/29/2022   1"
            ],
            "text/html": [
              "\n",
              "  <div id=\"df-05fb33bf-f61d-4fcc-9031-841a882c1edc\">\n",
              "    <div class=\"colab-df-container\">\n",
              "      <div>\n",
              "<style scoped>\n",
              "    .dataframe tbody tr th:only-of-type {\n",
              "        vertical-align: middle;\n",
              "    }\n",
              "\n",
              "    .dataframe tbody tr th {\n",
              "        vertical-align: top;\n",
              "    }\n",
              "\n",
              "    .dataframe thead th {\n",
              "        text-align: right;\n",
              "    }\n",
              "</style>\n",
              "<table border=\"1\" class=\"dataframe\">\n",
              "  <thead>\n",
              "    <tr style=\"text-align: right;\">\n",
              "      <th></th>\n",
              "      <th>qty</th>\n",
              "    </tr>\n",
              "    <tr>\n",
              "      <th>date</th>\n",
              "      <th></th>\n",
              "    </tr>\n",
              "  </thead>\n",
              "  <tbody>\n",
              "    <tr>\n",
              "      <th>05/19/2022</th>\n",
              "      <td>2</td>\n",
              "    </tr>\n",
              "    <tr>\n",
              "      <th>07/25/2022</th>\n",
              "      <td>1</td>\n",
              "    </tr>\n",
              "    <tr>\n",
              "      <th>07/25/2022</th>\n",
              "      <td>1</td>\n",
              "    </tr>\n",
              "    <tr>\n",
              "      <th>07/28/2022</th>\n",
              "      <td>1</td>\n",
              "    </tr>\n",
              "    <tr>\n",
              "      <th>07/29/2022</th>\n",
              "      <td>1</td>\n",
              "    </tr>\n",
              "  </tbody>\n",
              "</table>\n",
              "</div>\n",
              "      <button class=\"colab-df-convert\" onclick=\"convertToInteractive('df-05fb33bf-f61d-4fcc-9031-841a882c1edc')\"\n",
              "              title=\"Convert this dataframe to an interactive table.\"\n",
              "              style=\"display:none;\">\n",
              "        \n",
              "  <svg xmlns=\"http://www.w3.org/2000/svg\" height=\"24px\"viewBox=\"0 0 24 24\"\n",
              "       width=\"24px\">\n",
              "    <path d=\"M0 0h24v24H0V0z\" fill=\"none\"/>\n",
              "    <path d=\"M18.56 5.44l.94 2.06.94-2.06 2.06-.94-2.06-.94-.94-2.06-.94 2.06-2.06.94zm-11 1L8.5 8.5l.94-2.06 2.06-.94-2.06-.94L8.5 2.5l-.94 2.06-2.06.94zm10 10l.94 2.06.94-2.06 2.06-.94-2.06-.94-.94-2.06-.94 2.06-2.06.94z\"/><path d=\"M17.41 7.96l-1.37-1.37c-.4-.4-.92-.59-1.43-.59-.52 0-1.04.2-1.43.59L10.3 9.45l-7.72 7.72c-.78.78-.78 2.05 0 2.83L4 21.41c.39.39.9.59 1.41.59.51 0 1.02-.2 1.41-.59l7.78-7.78 2.81-2.81c.8-.78.8-2.07 0-2.86zM5.41 20L4 18.59l7.72-7.72 1.47 1.35L5.41 20z\"/>\n",
              "  </svg>\n",
              "      </button>\n",
              "      \n",
              "  <style>\n",
              "    .colab-df-container {\n",
              "      display:flex;\n",
              "      flex-wrap:wrap;\n",
              "      gap: 12px;\n",
              "    }\n",
              "\n",
              "    .colab-df-convert {\n",
              "      background-color: #E8F0FE;\n",
              "      border: none;\n",
              "      border-radius: 50%;\n",
              "      cursor: pointer;\n",
              "      display: none;\n",
              "      fill: #1967D2;\n",
              "      height: 32px;\n",
              "      padding: 0 0 0 0;\n",
              "      width: 32px;\n",
              "    }\n",
              "\n",
              "    .colab-df-convert:hover {\n",
              "      background-color: #E2EBFA;\n",
              "      box-shadow: 0px 1px 2px rgba(60, 64, 67, 0.3), 0px 1px 3px 1px rgba(60, 64, 67, 0.15);\n",
              "      fill: #174EA6;\n",
              "    }\n",
              "\n",
              "    [theme=dark] .colab-df-convert {\n",
              "      background-color: #3B4455;\n",
              "      fill: #D2E3FC;\n",
              "    }\n",
              "\n",
              "    [theme=dark] .colab-df-convert:hover {\n",
              "      background-color: #434B5C;\n",
              "      box-shadow: 0px 1px 3px 1px rgba(0, 0, 0, 0.15);\n",
              "      filter: drop-shadow(0px 1px 2px rgba(0, 0, 0, 0.3));\n",
              "      fill: #FFFFFF;\n",
              "    }\n",
              "  </style>\n",
              "\n",
              "      <script>\n",
              "        const buttonEl =\n",
              "          document.querySelector('#df-05fb33bf-f61d-4fcc-9031-841a882c1edc button.colab-df-convert');\n",
              "        buttonEl.style.display =\n",
              "          google.colab.kernel.accessAllowed ? 'block' : 'none';\n",
              "\n",
              "        async function convertToInteractive(key) {\n",
              "          const element = document.querySelector('#df-05fb33bf-f61d-4fcc-9031-841a882c1edc');\n",
              "          const dataTable =\n",
              "            await google.colab.kernel.invokeFunction('convertToInteractive',\n",
              "                                                     [key], {});\n",
              "          if (!dataTable) return;\n",
              "\n",
              "          const docLinkHtml = 'Like what you see? Visit the ' +\n",
              "            '<a target=\"_blank\" href=https://colab.research.google.com/notebooks/data_table.ipynb>data table notebook</a>'\n",
              "            + ' to learn more about interactive tables.';\n",
              "          element.innerHTML = '';\n",
              "          dataTable['output_type'] = 'display_data';\n",
              "          await google.colab.output.renderOutput(dataTable, element);\n",
              "          const docLink = document.createElement('div');\n",
              "          docLink.innerHTML = docLinkHtml;\n",
              "          element.appendChild(docLink);\n",
              "        }\n",
              "      </script>\n",
              "    </div>\n",
              "  </div>\n",
              "  "
            ]
          },
          "metadata": {},
          "execution_count": 111
        }
      ]
    },
    {
      "cell_type": "code",
      "source": [
        "len(df) / 2"
      ],
      "metadata": {
        "colab": {
          "base_uri": "https://localhost:8080/"
        },
        "id": "xx_7iPnwxlrv",
        "outputId": "d650fbcc-938a-433c-fb29-55084d18eef8"
      },
      "execution_count": 54,
      "outputs": [
        {
          "output_type": "execute_result",
          "data": {
            "text/plain": [
              "16958.0"
            ]
          },
          "metadata": {},
          "execution_count": 54
        }
      ]
    },
    {
      "cell_type": "code",
      "source": [
        "#train = ml.iloc[:16958]\n",
        "#test = ml.iloc[16958:]\n",
        "train = ml.iloc[:169]\n",
        "test = ml.iloc[:169]"
      ],
      "metadata": {
        "id": "UIQf4mZNxlOD"
      },
      "execution_count": 117,
      "outputs": []
    },
    {
      "cell_type": "code",
      "source": [
        "from sklearn.preprocessing import MinMaxScaler\n",
        "scaler = MinMaxScaler()"
      ],
      "metadata": {
        "id": "eFYrZR4E4H9T"
      },
      "execution_count": 118,
      "outputs": []
    },
    {
      "cell_type": "code",
      "source": [
        "ml.head(),ml.tail()"
      ],
      "metadata": {
        "colab": {
          "base_uri": "https://localhost:8080/"
        },
        "id": "kst0PM3e4KN6",
        "outputId": "d0d4de04-6dfb-4644-ff9e-96272fccdddd"
      },
      "execution_count": 119,
      "outputs": [
        {
          "output_type": "execute_result",
          "data": {
            "text/plain": [
              "(           qty\n",
              " date          \n",
              " 05/19/2022   2\n",
              " 07/25/2022   1\n",
              " 07/25/2022   1\n",
              " 07/28/2022   1\n",
              " 07/29/2022   1,            qty\n",
              " date          \n",
              " 09/13/2022   1\n",
              " 09/13/2022   1\n",
              " 09/13/2022   1\n",
              " 09/13/2022   1\n",
              " 09/13/2022   1)"
            ]
          },
          "metadata": {},
          "execution_count": 119
        }
      ]
    },
    {
      "cell_type": "code",
      "source": [
        "scaler.fit(train)\n",
        "scaled_train = scaler.transform(train)\n",
        "scaled_test = scaler.transform(test)"
      ],
      "metadata": {
        "id": "I2J8QIx156-O"
      },
      "execution_count": 120,
      "outputs": []
    },
    {
      "cell_type": "code",
      "source": [
        "scaled_train[:10]"
      ],
      "metadata": {
        "colab": {
          "base_uri": "https://localhost:8080/"
        },
        "id": "RTn_WsxU6P2F",
        "outputId": "2e57243b-4164-4e4a-84be-9ad241e5c901"
      },
      "execution_count": 121,
      "outputs": [
        {
          "output_type": "execute_result",
          "data": {
            "text/plain": [
              "array([[1.],\n",
              "       [0.],\n",
              "       [0.],\n",
              "       [0.],\n",
              "       [0.],\n",
              "       [0.],\n",
              "       [0.],\n",
              "       [0.],\n",
              "       [0.],\n",
              "       [0.]])"
            ]
          },
          "metadata": {},
          "execution_count": 121
        }
      ]
    },
    {
      "cell_type": "code",
      "source": [
        "from keras.preprocessing.sequence import TimeseriesGenerator"
      ],
      "metadata": {
        "id": "eFGmXgrM6SfX"
      },
      "execution_count": 122,
      "outputs": []
    },
    {
      "cell_type": "code",
      "source": [
        "# define generator\n",
        "n_input = 3\n",
        "n_features = 1\n",
        "generator = TimeseriesGenerator(scaled_train, scaled_train, length=n_input, batch_size=1)"
      ],
      "metadata": {
        "id": "Yk9DSDFx6ViJ"
      },
      "execution_count": 123,
      "outputs": []
    },
    {
      "cell_type": "code",
      "source": [
        "X,y = generator[0]\n",
        "print(f'Given the Array: \\n{X.flatten()}')\n",
        "print(f'Predict this y: \\n {y}')"
      ],
      "metadata": {
        "colab": {
          "base_uri": "https://localhost:8080/"
        },
        "id": "ac3Dfe2B6YZB",
        "outputId": "f60a7c70-b9a6-4978-db40-a86370f70b2f"
      },
      "execution_count": 124,
      "outputs": [
        {
          "output_type": "stream",
          "name": "stdout",
          "text": [
            "Given the Array: \n",
            "[1. 0. 0.]\n",
            "Predict this y: \n",
            " [[0.]]\n"
          ]
        }
      ]
    },
    {
      "cell_type": "code",
      "source": [
        "\n",
        "# We do the same thing, but now instead for 12 months\n",
        "n_input = 12\n",
        "generator = TimeseriesGenerator(scaled_train, scaled_train, length=n_input, batch_size=1)"
      ],
      "metadata": {
        "id": "LE1TlR0s6a9b"
      },
      "execution_count": 125,
      "outputs": []
    },
    {
      "cell_type": "code",
      "source": [
        "from keras.models import Sequential\n",
        "from keras.layers import Dense\n",
        "from keras.layers import LSTM"
      ],
      "metadata": {
        "id": "pFfIxbUj6eun"
      },
      "execution_count": 126,
      "outputs": []
    },
    {
      "cell_type": "code",
      "source": [
        "# define model\n",
        "model = Sequential()\n",
        "model.add(LSTM(100, activation='relu', input_shape=(n_input, n_features)))\n",
        "model.add(Dense(1))\n",
        "model.compile(optimizer='adam', loss='mse')"
      ],
      "metadata": {
        "id": "xO67azg-6g4D"
      },
      "execution_count": 127,
      "outputs": []
    },
    {
      "cell_type": "code",
      "source": [
        "model.summary()"
      ],
      "metadata": {
        "colab": {
          "base_uri": "https://localhost:8080/"
        },
        "id": "EaT9P3Xt6kPm",
        "outputId": "77a4b14c-1b93-4f1e-a4cf-4a0420c7b65f"
      },
      "execution_count": 128,
      "outputs": [
        {
          "output_type": "stream",
          "name": "stdout",
          "text": [
            "Model: \"sequential\"\n",
            "_________________________________________________________________\n",
            " Layer (type)                Output Shape              Param #   \n",
            "=================================================================\n",
            " lstm (LSTM)                 (None, 100)               40800     \n",
            "                                                                 \n",
            " dense (Dense)               (None, 1)                 101       \n",
            "                                                                 \n",
            "=================================================================\n",
            "Total params: 40,901\n",
            "Trainable params: 40,901\n",
            "Non-trainable params: 0\n",
            "_________________________________________________________________\n"
          ]
        }
      ]
    },
    {
      "cell_type": "code",
      "source": [
        "# fit model\n",
        "model.fit(generator,epochs=50)"
      ],
      "metadata": {
        "colab": {
          "base_uri": "https://localhost:8080/"
        },
        "id": "qDVgVwwX6mYE",
        "outputId": "bf918332-31a7-4adf-d85d-e5bd3d019def"
      },
      "execution_count": 129,
      "outputs": [
        {
          "output_type": "stream",
          "name": "stdout",
          "text": [
            "Epoch 1/50\n",
            "157/157 [==============================] - 3s 7ms/step - loss: 0.0126\n",
            "Epoch 2/50\n",
            "157/157 [==============================] - 1s 7ms/step - loss: 0.0125\n",
            "Epoch 3/50\n",
            "157/157 [==============================] - 1s 7ms/step - loss: 0.0121\n",
            "Epoch 4/50\n",
            "157/157 [==============================] - 1s 7ms/step - loss: 0.0121\n",
            "Epoch 5/50\n",
            "157/157 [==============================] - 1s 7ms/step - loss: 0.0117\n",
            "Epoch 6/50\n",
            "157/157 [==============================] - 1s 7ms/step - loss: 0.0112\n",
            "Epoch 7/50\n",
            "157/157 [==============================] - 1s 7ms/step - loss: 0.0111\n",
            "Epoch 8/50\n",
            "157/157 [==============================] - 1s 7ms/step - loss: 0.0105\n",
            "Epoch 9/50\n",
            "157/157 [==============================] - 1s 7ms/step - loss: 0.0099\n",
            "Epoch 10/50\n",
            "157/157 [==============================] - 1s 7ms/step - loss: 0.0098\n",
            "Epoch 11/50\n",
            "157/157 [==============================] - 1s 7ms/step - loss: 0.0092\n",
            "Epoch 12/50\n",
            "157/157 [==============================] - 1s 7ms/step - loss: 0.0083\n",
            "Epoch 13/50\n",
            "157/157 [==============================] - 1s 7ms/step - loss: 0.0084\n",
            "Epoch 14/50\n",
            "157/157 [==============================] - 1s 7ms/step - loss: 0.0077\n",
            "Epoch 15/50\n",
            "157/157 [==============================] - 1s 7ms/step - loss: 0.0074\n",
            "Epoch 16/50\n",
            "157/157 [==============================] - 1s 7ms/step - loss: 0.0070\n",
            "Epoch 17/50\n",
            "157/157 [==============================] - 1s 7ms/step - loss: 0.0068\n",
            "Epoch 18/50\n",
            "157/157 [==============================] - 1s 7ms/step - loss: 0.0067\n",
            "Epoch 19/50\n",
            "157/157 [==============================] - 1s 7ms/step - loss: 0.0067\n",
            "Epoch 20/50\n",
            "157/157 [==============================] - 1s 7ms/step - loss: 0.0065\n",
            "Epoch 21/50\n",
            "157/157 [==============================] - 1s 7ms/step - loss: 0.0066\n",
            "Epoch 22/50\n",
            "157/157 [==============================] - 1s 7ms/step - loss: 0.0066\n",
            "Epoch 23/50\n",
            "157/157 [==============================] - 1s 7ms/step - loss: 0.0064\n",
            "Epoch 24/50\n",
            "157/157 [==============================] - 1s 7ms/step - loss: 0.0065\n",
            "Epoch 25/50\n",
            "157/157 [==============================] - 1s 7ms/step - loss: 0.0065\n",
            "Epoch 26/50\n",
            "157/157 [==============================] - 1s 7ms/step - loss: 0.0065\n",
            "Epoch 27/50\n",
            "157/157 [==============================] - 1s 7ms/step - loss: 0.0066\n",
            "Epoch 28/50\n",
            "157/157 [==============================] - 1s 7ms/step - loss: 0.0066\n",
            "Epoch 29/50\n",
            "157/157 [==============================] - 1s 7ms/step - loss: 0.0065\n",
            "Epoch 30/50\n",
            "157/157 [==============================] - 1s 7ms/step - loss: 0.0065\n",
            "Epoch 31/50\n",
            "157/157 [==============================] - 1s 7ms/step - loss: 0.0065\n",
            "Epoch 32/50\n",
            "157/157 [==============================] - 1s 7ms/step - loss: 0.0065\n",
            "Epoch 33/50\n",
            "157/157 [==============================] - 1s 7ms/step - loss: 0.0065\n",
            "Epoch 34/50\n",
            "157/157 [==============================] - 1s 7ms/step - loss: 0.0065\n",
            "Epoch 35/50\n",
            "157/157 [==============================] - 1s 7ms/step - loss: 0.0065\n",
            "Epoch 36/50\n",
            "157/157 [==============================] - 1s 7ms/step - loss: 0.0065\n",
            "Epoch 37/50\n",
            "157/157 [==============================] - 1s 7ms/step - loss: 0.0064\n",
            "Epoch 38/50\n",
            "157/157 [==============================] - 1s 7ms/step - loss: 0.0066\n",
            "Epoch 39/50\n",
            "157/157 [==============================] - 1s 7ms/step - loss: 0.0065\n",
            "Epoch 40/50\n",
            "157/157 [==============================] - 1s 7ms/step - loss: 0.0066\n",
            "Epoch 41/50\n",
            "157/157 [==============================] - 1s 7ms/step - loss: 0.0064\n",
            "Epoch 42/50\n",
            "157/157 [==============================] - 1s 7ms/step - loss: 0.0065\n",
            "Epoch 43/50\n",
            "157/157 [==============================] - 1s 7ms/step - loss: 0.0064\n",
            "Epoch 44/50\n",
            "157/157 [==============================] - 1s 9ms/step - loss: 0.0065\n",
            "Epoch 45/50\n",
            "157/157 [==============================] - 1s 7ms/step - loss: 0.0065\n",
            "Epoch 46/50\n",
            "157/157 [==============================] - 1s 7ms/step - loss: 0.0065\n",
            "Epoch 47/50\n",
            "157/157 [==============================] - 1s 7ms/step - loss: 0.0065\n",
            "Epoch 48/50\n",
            "157/157 [==============================] - 1s 7ms/step - loss: 0.0065\n",
            "Epoch 49/50\n",
            "157/157 [==============================] - 1s 7ms/step - loss: 0.0065\n",
            "Epoch 50/50\n",
            "157/157 [==============================] - 1s 7ms/step - loss: 0.0065\n"
          ]
        },
        {
          "output_type": "execute_result",
          "data": {
            "text/plain": [
              "<keras.callbacks.History at 0x7fc9b8c1cb90>"
            ]
          },
          "metadata": {},
          "execution_count": 129
        }
      ]
    },
    {
      "cell_type": "code",
      "source": [
        "loss_per_epoch = model.history.history['loss']\n",
        "plt.plot(range(len(loss_per_epoch)),loss_per_epoch)"
      ],
      "metadata": {
        "colab": {
          "base_uri": "https://localhost:8080/",
          "height": 286
        },
        "id": "OLx0SEY961Np",
        "outputId": "f5b956de-c82a-4b58-de8a-7610a9d16cf2"
      },
      "execution_count": 130,
      "outputs": [
        {
          "output_type": "execute_result",
          "data": {
            "text/plain": [
              "[<matplotlib.lines.Line2D at 0x7fc9b730f2d0>]"
            ]
          },
          "metadata": {},
          "execution_count": 130
        },
        {
          "output_type": "display_data",
          "data": {
            "text/plain": [
              "<Figure size 432x288 with 1 Axes>"
            ],
            "image/png": "[encoded data removed]"
          },
          "metadata": {}
        }
      ]
    },
    {
      "cell_type": "code",
      "source": [
        "last_train_batch = scaled_train[-12:]\n",
        "last_train_batch = last_train_batch.reshape((1, n_input, n_features))\n",
        "model.predict(last_train_batch)"
      ],
      "metadata": {
        "colab": {
          "base_uri": "https://localhost:8080/"
        },
        "id": "43A5j7hE661c",
        "outputId": "03fe148d-110d-4f24-e672-e1c2e10712d7"
      },
      "execution_count": 131,
      "outputs": [
        {
          "output_type": "stream",
          "name": "stdout",
          "text": [
            "1/1 [==============================] - 0s 416ms/step\n"
          ]
        },
        {
          "output_type": "execute_result",
          "data": {
            "text/plain": [
              "array([[-0.16331612]], dtype=float32)"
            ]
          },
          "metadata": {},
          "execution_count": 131
        }
      ]
    },
    {
      "cell_type": "code",
      "source": [
        "scaled_test[0]"
      ],
      "metadata": {
        "colab": {
          "base_uri": "https://localhost:8080/"
        },
        "id": "1MF6ZEzu7AJ-",
        "outputId": "636812f2-699b-4789-a877-70b6f2bf3da3"
      },
      "execution_count": 132,
      "outputs": [
        {
          "output_type": "execute_result",
          "data": {
            "text/plain": [
              "array([1.])"
            ]
          },
          "metadata": {},
          "execution_count": 132
        }
      ]
    },
    {
      "cell_type": "code",
      "source": [
        "test_predictions = []\n",
        "\n",
        "first_eval_batch = scaled_train[-n_input:]\n",
        "current_batch = first_eval_batch.reshape((1, n_input, n_features))\n",
        "\n",
        "for i in range(len(test)):\n",
        "    \n",
        "    # get the prediction value for the first batch\n",
        "    current_pred = model.predict(current_batch)[0]\n",
        "    \n",
        "    # append the prediction into the array\n",
        "    test_predictions.append(current_pred) \n",
        "    \n",
        "    # use the prediction to update the batch and remove the first value\n",
        "    current_batch = np.append(current_batch[:,1:,:],[[current_pred]],axis=1)"
      ],
      "metadata": {
        "colab": {
          "base_uri": "https://localhost:8080/"
        },
        "id": "Bks8m5oV7EMb",
        "outputId": "d03c2d5d-7125-45c1-f7c6-3556a94dab9c"
      },
      "execution_count": 133,
      "outputs": [
        {
          "output_type": "stream",
          "name": "stdout",
          "text": [
            "1/1 [==============================] - 0s 22ms/step\n",
            "1/1 [==============================] - 0s 18ms/step\n",
            "1/1 [==============================] - 0s 26ms/step\n",
            "1/1 [==============================] - 0s 18ms/step\n",
            "1/1 [==============================] - 0s 18ms/step\n",
            "1/1 [==============================] - 0s 18ms/step\n",
            "1/1 [==============================] - 0s 21ms/step\n",
            "1/1 [==============================] - 0s 19ms/step\n",
            "1/1 [==============================] - 0s 19ms/step\n",
            "1/1 [==============================] - 0s 20ms/step\n",
            "1/1 [==============================] - 0s 18ms/step\n",
            "1/1 [==============================] - 0s 17ms/step\n",
            "1/1 [==============================] - 0s 18ms/step\n",
            "1/1 [==============================] - 0s 18ms/step\n",
            "1/1 [==============================] - 0s 18ms/step\n",
            "1/1 [==============================] - 0s 28ms/step\n",
            "1/1 [==============================] - 0s 18ms/step\n",
            "1/1 [==============================] - 0s 22ms/step\n",
            "1/1 [==============================] - 0s 32ms/step\n",
            "1/1 [==============================] - 0s 18ms/step\n",
            "1/1 [==============================] - 0s 23ms/step\n",
            "1/1 [==============================] - 0s 20ms/step\n",
            "1/1 [==============================] - 0s 20ms/step\n",
            "1/1 [==============================] - 0s 22ms/step\n",
            "1/1 [==============================] - 0s 18ms/step\n",
            "1/1 [==============================] - 0s 19ms/step\n",
            "1/1 [==============================] - 0s 21ms/step\n",
            "1/1 [==============================] - 0s 21ms/step\n",
            "1/1 [==============================] - 0s 18ms/step\n",
            "1/1 [==============================] - 0s 18ms/step\n",
            "1/1 [==============================] - 0s 18ms/step\n",
            "1/1 [==============================] - 0s 18ms/step\n",
            "1/1 [==============================] - 0s 19ms/step\n",
            "1/1 [==============================] - 0s 18ms/step\n",
            "1/1 [==============================] - 0s 27ms/step\n",
            "1/1 [==============================] - 0s 21ms/step\n",
            "1/1 [==============================] - 0s 18ms/step\n",
            "1/1 [==============================] - 0s 18ms/step\n",
            "1/1 [==============================] - 0s 19ms/step\n",
            "1/1 [==============================] - 0s 19ms/step\n",
            "1/1 [==============================] - 0s 21ms/step\n",
            "1/1 [==============================] - 0s 18ms/step\n",
            "1/1 [==============================] - 0s 18ms/step\n",
            "1/1 [==============================] - 0s 20ms/step\n",
            "1/1 [==============================] - 0s 18ms/step\n",
            "1/1 [==============================] - 0s 18ms/step\n",
            "1/1 [==============================] - 0s 18ms/step\n",
            "1/1 [==============================] - 0s 19ms/step\n",
            "1/1 [==============================] - 0s 19ms/step\n",
            "1/1 [==============================] - 0s 18ms/step\n",
            "1/1 [==============================] - 0s 19ms/step\n",
            "1/1 [==============================] - 0s 27ms/step\n",
            "1/1 [==============================] - 0s 18ms/step\n",
            "1/1 [==============================] - 0s 20ms/step\n",
            "1/1 [==============================] - 0s 19ms/step\n",
            "1/1 [==============================] - 0s 25ms/step\n",
            "1/1 [==============================] - 0s 24ms/step\n",
            "1/1 [==============================] - 0s 21ms/step\n",
            "1/1 [==============================] - 0s 20ms/step\n",
            "1/1 [==============================] - 0s 20ms/step\n",
            "1/1 [==============================] - 0s 19ms/step\n",
            "1/1 [==============================] - 0s 22ms/step\n",
            "1/1 [==============================] - 0s 19ms/step\n",
            "1/1 [==============================] - 0s 25ms/step\n",
            "1/1 [==============================] - 0s 19ms/step\n",
            "1/1 [==============================] - 0s 23ms/step\n",
            "1/1 [==============================] - 0s 22ms/step\n",
            "1/1 [==============================] - 0s 19ms/step\n",
            "1/1 [==============================] - 0s 18ms/step\n",
            "1/1 [==============================] - 0s 19ms/step\n",
            "1/1 [==============================] - 0s 18ms/step\n",
            "1/1 [==============================] - 0s 24ms/step\n",
            "1/1 [==============================] - 0s 18ms/step\n",
            "1/1 [==============================] - 0s 18ms/step\n",
            "1/1 [==============================] - 0s 18ms/step\n",
            "1/1 [==============================] - 0s 18ms/step\n",
            "1/1 [==============================] - 0s 19ms/step\n",
            "1/1 [==============================] - 0s 20ms/step\n",
            "1/1 [==============================] - 0s 20ms/step\n",
            "1/1 [==============================] - 0s 18ms/step\n",
            "1/1 [==============================] - 0s 20ms/step\n",
            "1/1 [==============================] - 0s 19ms/step\n",
            "1/1 [==============================] - 0s 22ms/step\n",
            "1/1 [==============================] - 0s 34ms/step\n",
            "1/1 [==============================] - 0s 20ms/step\n",
            "1/1 [==============================] - 0s 23ms/step\n",
            "1/1 [==============================] - 0s 18ms/step\n",
            "1/1 [==============================] - 0s 20ms/step\n",
            "1/1 [==============================] - 0s 18ms/step\n",
            "1/1 [==============================] - 0s 18ms/step\n",
            "1/1 [==============================] - 0s 20ms/step\n",
            "1/1 [==============================] - 0s 20ms/step\n",
            "1/1 [==============================] - 0s 20ms/step\n",
            "1/1 [==============================] - 0s 18ms/step\n",
            "1/1 [==============================] - 0s 20ms/step\n",
            "1/1 [==============================] - 0s 17ms/step\n",
            "1/1 [==============================] - 0s 22ms/step\n",
            "1/1 [==============================] - 0s 18ms/step\n",
            "1/1 [==============================] - 0s 24ms/step\n",
            "1/1 [==============================] - 0s 22ms/step\n",
            "1/1 [==============================] - 0s 23ms/step\n",
            "1/1 [==============================] - 0s 18ms/step\n",
            "1/1 [==============================] - 0s 19ms/step\n",
            "1/1 [==============================] - 0s 23ms/step\n",
            "1/1 [==============================] - 0s 19ms/step\n",
            "1/1 [==============================] - 0s 19ms/step\n",
            "1/1 [==============================] - 0s 19ms/step\n",
            "1/1 [==============================] - 0s 20ms/step\n",
            "1/1 [==============================] - 0s 19ms/step\n",
            "1/1 [==============================] - 0s 22ms/step\n",
            "1/1 [==============================] - 0s 21ms/step\n",
            "1/1 [==============================] - 0s 18ms/step\n",
            "1/1 [==============================] - 0s 17ms/step\n",
            "1/1 [==============================] - 0s 18ms/step\n",
            "1/1 [==============================] - 0s 20ms/step\n",
            "1/1 [==============================] - 0s 19ms/step\n",
            "1/1 [==============================] - 0s 18ms/step\n",
            "1/1 [==============================] - 0s 19ms/step\n",
            "1/1 [==============================] - 0s 18ms/step\n",
            "1/1 [==============================] - 0s 18ms/step\n",
            "1/1 [==============================] - 0s 21ms/step\n",
            "1/1 [==============================] - 0s 19ms/step\n",
            "1/1 [==============================] - 0s 19ms/step\n",
            "1/1 [==============================] - 0s 18ms/step\n",
            "1/1 [==============================] - 0s 20ms/step\n",
            "1/1 [==============================] - 0s 20ms/step\n",
            "1/1 [==============================] - 0s 20ms/step\n",
            "1/1 [==============================] - 0s 25ms/step\n",
            "1/1 [==============================] - 0s 18ms/step\n",
            "1/1 [==============================] - 0s 24ms/step\n",
            "1/1 [==============================] - 0s 19ms/step\n",
            "1/1 [==============================] - 0s 27ms/step\n",
            "1/1 [==============================] - 0s 19ms/step\n",
            "1/1 [==============================] - 0s 25ms/step\n",
            "1/1 [==============================] - 0s 19ms/step\n",
            "1/1 [==============================] - 0s 17ms/step\n",
            "1/1 [==============================] - 0s 18ms/step\n",
            "1/1 [==============================] - 0s 24ms/step\n",
            "1/1 [==============================] - 0s 21ms/step\n",
            "1/1 [==============================] - 0s 19ms/step\n",
            "1/1 [==============================] - 0s 22ms/step\n",
            "1/1 [==============================] - 0s 19ms/step\n",
            "1/1 [==============================] - 0s 22ms/step\n",
            "1/1 [==============================] - 0s 26ms/step\n",
            "1/1 [==============================] - 0s 18ms/step\n",
            "1/1 [==============================] - 0s 24ms/step\n",
            "1/1 [==============================] - 0s 18ms/step\n",
            "1/1 [==============================] - 0s 33ms/step\n",
            "1/1 [==============================] - 0s 35ms/step\n",
            "1/1 [==============================] - 0s 33ms/step\n",
            "1/1 [==============================] - 0s 35ms/step\n",
            "1/1 [==============================] - 0s 35ms/step\n",
            "1/1 [==============================] - 0s 33ms/step\n",
            "1/1 [==============================] - 0s 39ms/step\n",
            "1/1 [==============================] - 0s 35ms/step\n",
            "1/1 [==============================] - 0s 32ms/step\n",
            "1/1 [==============================] - 0s 40ms/step\n",
            "1/1 [==============================] - 0s 32ms/step\n",
            "1/1 [==============================] - 0s 34ms/step\n",
            "1/1 [==============================] - 0s 20ms/step\n",
            "1/1 [==============================] - 0s 22ms/step\n",
            "1/1 [==============================] - 0s 19ms/step\n",
            "1/1 [==============================] - 0s 20ms/step\n",
            "1/1 [==============================] - 0s 18ms/step\n",
            "1/1 [==============================] - 0s 19ms/step\n",
            "1/1 [==============================] - 0s 19ms/step\n",
            "1/1 [==============================] - 0s 22ms/step\n",
            "1/1 [==============================] - 0s 18ms/step\n",
            "1/1 [==============================] - 0s 17ms/step\n"
          ]
        }
      ]
    },
    {
      "cell_type": "code",
      "source": [
        "test_predictions"
      ],
      "metadata": {
        "colab": {
          "base_uri": "https://localhost:8080/"
        },
        "id": "Y_l8LPxI7Gx2",
        "outputId": "bce255c7-00fc-4767-a93c-e5c9dea8b883"
      },
      "execution_count": 134,
      "outputs": [
        {
          "output_type": "execute_result",
          "data": {
            "text/plain": [
              "[array([-0.16331612], dtype=float32),\n",
              " array([-0.1467113], dtype=float32),\n",
              " array([-0.10869737], dtype=float32),\n",
              " array([-0.07621565], dtype=float32),\n",
              " array([-0.05161393], dtype=float32),\n",
              " array([-0.03383277], dtype=float32),\n",
              " array([-0.02047316], dtype=float32),\n",
              " array([-0.01048167], dtype=float32),\n",
              " array([-0.00296878], dtype=float32),\n",
              " array([0.0029139], dtype=float32),\n",
              " array([0.00471134], dtype=float32),\n",
              " array([0.01571376], dtype=float32),\n",
              " array([0.01901212], dtype=float32),\n",
              " array([0.01878735], dtype=float32),\n",
              " array([0.01825373], dtype=float32),\n",
              " array([0.01783251], dtype=float32),\n",
              " array([0.01753522], dtype=float32),\n",
              " array([0.01734121], dtype=float32),\n",
              " array([0.01722171], dtype=float32),\n",
              " array([0.01714959], dtype=float32),\n",
              " array([0.01710733], dtype=float32),\n",
              " array([0.01708601], dtype=float32),\n",
              " array([0.01708052], dtype=float32),\n",
              " array([0.01706521], dtype=float32),\n",
              " array([0.01705696], dtype=float32),\n",
              " array([0.01706037], dtype=float32),\n",
              " array([0.01706608], dtype=float32),\n",
              " array([0.01707029], dtype=float32),\n",
              " array([0.01707286], dtype=float32),\n",
              " array([0.01707428], dtype=float32),\n",
              " array([0.01707499], dtype=float32),\n",
              " array([0.01707529], dtype=float32),\n",
              " array([0.0170754], dtype=float32),\n",
              " array([0.01707541], dtype=float32),\n",
              " array([0.01707536], dtype=float32),\n",
              " array([0.01707534], dtype=float32),\n",
              " array([0.01707533], dtype=float32),\n",
              " array([0.01707529], dtype=float32),\n",
              " array([0.01707525], dtype=float32),\n",
              " array([0.01707523], dtype=float32),\n",
              " array([0.01707521], dtype=float32),\n",
              " array([0.0170752], dtype=float32),\n",
              " array([0.0170752], dtype=float32),\n",
              " array([0.0170752], dtype=float32),\n",
              " array([0.0170752], dtype=float32),\n",
              " array([0.0170752], dtype=float32),\n",
              " array([0.0170752], dtype=float32),\n",
              " array([0.01707521], dtype=float32),\n",
              " array([0.01707521], dtype=float32),\n",
              " array([0.01707521], dtype=float32),\n",
              " array([0.01707521], dtype=float32),\n",
              " array([0.01707521], dtype=float32),\n",
              " array([0.01707521], dtype=float32),\n",
              " array([0.01707521], dtype=float32),\n",
              " array([0.01707521], dtype=float32),\n",
              " array([0.01707521], dtype=float32),\n",
              " array([0.01707521], dtype=float32),\n",
              " array([0.01707521], dtype=float32),\n",
              " array([0.01707521], dtype=float32),\n",
              " array([0.01707521], dtype=float32),\n",
              " array([0.01707521], dtype=float32),\n",
              " array([0.01707521], dtype=float32),\n",
              " array([0.01707521], dtype=float32),\n",
              " array([0.01707521], dtype=float32),\n",
              " array([0.01707521], dtype=float32),\n",
              " array([0.01707521], dtype=float32),\n",
              " array([0.01707521], dtype=float32),\n",
              " array([0.01707521], dtype=float32),\n",
              " array([0.01707521], dtype=float32),\n",
              " array([0.01707521], dtype=float32),\n",
              " array([0.01707521], dtype=float32),\n",
              " array([0.01707521], dtype=float32),\n",
              " array([0.01707521], dtype=float32),\n",
              " array([0.01707521], dtype=float32),\n",
              " array([0.01707521], dtype=float32),\n",
              " array([0.01707521], dtype=float32),\n",
              " array([0.01707521], dtype=float32),\n",
              " array([0.01707521], dtype=float32),\n",
              " array([0.01707521], dtype=float32),\n",
              " array([0.01707521], dtype=float32),\n",
              " array([0.01707521], dtype=float32),\n",
              " array([0.01707521], dtype=float32),\n",
              " array([0.01707521], dtype=float32),\n",
              " array([0.01707521], dtype=float32),\n",
              " array([0.01707521], dtype=float32),\n",
              " array([0.01707521], dtype=float32),\n",
              " array([0.01707521], dtype=float32),\n",
              " array([0.01707521], dtype=float32),\n",
              " array([0.01707521], dtype=float32),\n",
              " array([0.01707521], dtype=float32),\n",
              " array([0.01707521], dtype=float32),\n",
              " array([0.01707521], dtype=float32),\n",
              " array([0.01707521], dtype=float32),\n",
              " array([0.01707521], dtype=float32),\n",
              " array([0.01707521], dtype=float32),\n",
              " array([0.01707521], dtype=float32),\n",
              " array([0.01707521], dtype=float32),\n",
              " array([0.01707521], dtype=float32),\n",
              " array([0.01707521], dtype=float32),\n",
              " array([0.01707521], dtype=float32),\n",
              " array([0.01707521], dtype=float32),\n",
              " array([0.01707521], dtype=float32),\n",
              " array([0.01707521], dtype=float32),\n",
              " array([0.01707521], dtype=float32),\n",
              " array([0.01707521], dtype=float32),\n",
              " array([0.01707521], dtype=float32),\n",
              " array([0.01707521], dtype=float32),\n",
              " array([0.01707521], dtype=float32),\n",
              " array([0.01707521], dtype=float32),\n",
              " array([0.01707521], dtype=float32),\n",
              " array([0.01707521], dtype=float32),\n",
              " array([0.01707521], dtype=float32),\n",
              " array([0.01707521], dtype=float32),\n",
              " array([0.01707521], dtype=float32),\n",
              " array([0.01707521], dtype=float32),\n",
              " array([0.01707521], dtype=float32),\n",
              " array([0.01707521], dtype=float32),\n",
              " array([0.01707521], dtype=float32),\n",
              " array([0.01707521], dtype=float32),\n",
              " array([0.01707521], dtype=float32),\n",
              " array([0.01707521], dtype=float32),\n",
              " array([0.01707521], dtype=float32),\n",
              " array([0.01707521], dtype=float32),\n",
              " array([0.01707521], dtype=float32),\n",
              " array([0.01707521], dtype=float32),\n",
              " array([0.01707521], dtype=float32),\n",
              " array([0.01707521], dtype=float32),\n",
              " array([0.01707521], dtype=float32),\n",
              " array([0.01707521], dtype=float32),\n",
              " array([0.01707521], dtype=float32),\n",
              " array([0.01707521], dtype=float32),\n",
              " array([0.01707521], dtype=float32),\n",
              " array([0.01707521], dtype=float32),\n",
              " array([0.01707521], dtype=float32),\n",
              " array([0.01707521], dtype=float32),\n",
              " array([0.01707521], dtype=float32),\n",
              " array([0.01707521], dtype=float32),\n",
              " array([0.01707521], dtype=float32),\n",
              " array([0.01707521], dtype=float32),\n",
              " array([0.01707521], dtype=float32),\n",
              " array([0.01707521], dtype=float32),\n",
              " array([0.01707521], dtype=float32),\n",
              " array([0.01707521], dtype=float32),\n",
              " array([0.01707521], dtype=float32),\n",
              " array([0.01707521], dtype=float32),\n",
              " array([0.01707521], dtype=float32),\n",
              " array([0.01707521], dtype=float32),\n",
              " array([0.01707521], dtype=float32),\n",
              " array([0.01707521], dtype=float32),\n",
              " array([0.01707521], dtype=float32),\n",
              " array([0.01707521], dtype=float32),\n",
              " array([0.01707521], dtype=float32),\n",
              " array([0.01707521], dtype=float32),\n",
              " array([0.01707521], dtype=float32),\n",
              " array([0.01707521], dtype=float32),\n",
              " array([0.01707521], dtype=float32),\n",
              " array([0.01707521], dtype=float32),\n",
              " array([0.01707521], dtype=float32),\n",
              " array([0.01707521], dtype=float32),\n",
              " array([0.01707521], dtype=float32),\n",
              " array([0.01707521], dtype=float32),\n",
              " array([0.01707521], dtype=float32),\n",
              " array([0.01707521], dtype=float32),\n",
              " array([0.01707521], dtype=float32),\n",
              " array([0.01707521], dtype=float32),\n",
              " array([0.01707521], dtype=float32),\n",
              " array([0.01707521], dtype=float32),\n",
              " array([0.01707521], dtype=float32),\n",
              " array([0.01707521], dtype=float32)]"
            ]
          },
          "metadata": {},
          "execution_count": 134
        }
      ]
    },
    {
      "cell_type": "code",
      "source": [
        "test['predictions'] = test_predictions\n",
        "test.head()"
      ],
      "metadata": {
        "colab": {
          "base_uri": "https://localhost:8080/",
          "height": 365
        },
        "id": "9SYqvSaS7KVZ",
        "outputId": "8f99b3b1-08c3-46f3-832e-bfca4cd26485"
      },
      "execution_count": 136,
      "outputs": [
        {
          "output_type": "stream",
          "name": "stderr",
          "text": [
            "/usr/local/lib/python3.7/dist-packages/ipykernel_launcher.py:1: SettingWithCopyWarning: \n",
            "A value is trying to be set on a copy of a slice from a DataFrame.\n",
            "Try using .loc[row_indexer,col_indexer] = value instead\n",
            "\n",
            "See the caveats in the documentation: https://pandas.pydata.org/pandas-docs/stable/user_guide/indexing.html#returning-a-view-versus-a-copy\n",
            "  \"\"\"Entry point for launching an IPython kernel.\n"
          ]
        },
        {
          "output_type": "execute_result",
          "data": {
            "text/plain": [
              "           qty    predictions\n",
              "date                         \n",
              "05/19/2022   2  [-0.16331612]\n",
              "07/25/2022   1   [-0.1467113]\n",
              "07/25/2022   1  [-0.10869737]\n",
              "07/28/2022   1  [-0.07621565]\n",
              "07/29/2022   1  [-0.05161393]"
            ],
            "text/html": [
              "\n",
              "  <div id=\"df-51f8256e-68b0-4991-8836-39f3f039d22c\">\n",
              "    <div class=\"colab-df-container\">\n",
              "      <div>\n",
              "<style scoped>\n",
              "    .dataframe tbody tr th:only-of-type {\n",
              "        vertical-align: middle;\n",
              "    }\n",
              "\n",
              "    .dataframe tbody tr th {\n",
              "        vertical-align: top;\n",
              "    }\n",
              "\n",
              "    .dataframe thead th {\n",
              "        text-align: right;\n",
              "    }\n",
              "</style>\n",
              "<table border=\"1\" class=\"dataframe\">\n",
              "  <thead>\n",
              "    <tr style=\"text-align: right;\">\n",
              "      <th></th>\n",
              "      <th>qty</th>\n",
              "      <th>predictions</th>\n",
              "    </tr>\n",
              "    <tr>\n",
              "      <th>date</th>\n",
              "      <th></th>\n",
              "      <th></th>\n",
              "    </tr>\n",
              "  </thead>\n",
              "  <tbody>\n",
              "    <tr>\n",
              "      <th>05/19/2022</th>\n",
              "      <td>2</td>\n",
              "      <td>[-0.16331612]</td>\n",
              "    </tr>\n",
              "    <tr>\n",
              "      <th>07/25/2022</th>\n",
              "      <td>1</td>\n",
              "      <td>[-0.1467113]</td>\n",
              "    </tr>\n",
              "    <tr>\n",
              "      <th>07/25/2022</th>\n",
              "      <td>1</td>\n",
              "      <td>[-0.10869737]</td>\n",
              "    </tr>\n",
              "    <tr>\n",
              "      <th>07/28/2022</th>\n",
              "      <td>1</td>\n",
              "      <td>[-0.07621565]</td>\n",
              "    </tr>\n",
              "    <tr>\n",
              "      <th>07/29/2022</th>\n",
              "      <td>1</td>\n",
              "      <td>[-0.05161393]</td>\n",
              "    </tr>\n",
              "  </tbody>\n",
              "</table>\n",
              "</div>\n",
              "      <button class=\"colab-df-convert\" onclick=\"convertToInteractive('df-51f8256e-68b0-4991-8836-39f3f039d22c')\"\n",
              "              title=\"Convert this dataframe to an interactive table.\"\n",
              "              style=\"display:none;\">\n",
              "        \n",
              "  <svg xmlns=\"http://www.w3.org/2000/svg\" height=\"24px\"viewBox=\"0 0 24 24\"\n",
              "       width=\"24px\">\n",
              "    <path d=\"M0 0h24v24H0V0z\" fill=\"none\"/>\n",
              "    <path d=\"M18.56 5.44l.94 2.06.94-2.06 2.06-.94-2.06-.94-.94-2.06-.94 2.06-2.06.94zm-11 1L8.5 8.5l.94-2.06 2.06-.94-2.06-.94L8.5 2.5l-.94 2.06-2.06.94zm10 10l.94 2.06.94-2.06 2.06-.94-2.06-.94-.94-2.06-.94 2.06-2.06.94z\"/><path d=\"M17.41 7.96l-1.37-1.37c-.4-.4-.92-.59-1.43-.59-.52 0-1.04.2-1.43.59L10.3 9.45l-7.72 7.72c-.78.78-.78 2.05 0 2.83L4 21.41c.39.39.9.59 1.41.59.51 0 1.02-.2 1.41-.59l7.78-7.78 2.81-2.81c.8-.78.8-2.07 0-2.86zM5.41 20L4 18.59l7.72-7.72 1.47 1.35L5.41 20z\"/>\n",
              "  </svg>\n",
              "      </button>\n",
              "      \n",
              "  <style>\n",
              "    .colab-df-container {\n",
              "      display:flex;\n",
              "      flex-wrap:wrap;\n",
              "      gap: 12px;\n",
              "    }\n",
              "\n",
              "    .colab-df-convert {\n",
              "      background-color: #E8F0FE;\n",
              "      border: none;\n",
              "      border-radius: 50%;\n",
              "      cursor: pointer;\n",
              "      display: none;\n",
              "      fill: #1967D2;\n",
              "      height: 32px;\n",
              "      padding: 0 0 0 0;\n",
              "      width: 32px;\n",
              "    }\n",
              "\n",
              "    .colab-df-convert:hover {\n",
              "      background-color: #E2EBFA;\n",
              "      box-shadow: 0px 1px 2px rgba(60, 64, 67, 0.3), 0px 1px 3px 1px rgba(60, 64, 67, 0.15);\n",
              "      fill: #174EA6;\n",
              "    }\n",
              "\n",
              "    [theme=dark] .colab-df-convert {\n",
              "      background-color: #3B4455;\n",
              "      fill: #D2E3FC;\n",
              "    }\n",
              "\n",
              "    [theme=dark] .colab-df-convert:hover {\n",
              "      background-color: #434B5C;\n",
              "      box-shadow: 0px 1px 3px 1px rgba(0, 0, 0, 0.15);\n",
              "      filter: drop-shadow(0px 1px 2px rgba(0, 0, 0, 0.3));\n",
              "      fill: #FFFFFF;\n",
              "    }\n",
              "  </style>\n",
              "\n",
              "      <script>\n",
              "        const buttonEl =\n",
              "          document.querySelector('#df-51f8256e-68b0-4991-8836-39f3f039d22c button.colab-df-convert');\n",
              "        buttonEl.style.display =\n",
              "          google.colab.kernel.accessAllowed ? 'block' : 'none';\n",
              "\n",
              "        async function convertToInteractive(key) {\n",
              "          const element = document.querySelector('#df-51f8256e-68b0-4991-8836-39f3f039d22c');\n",
              "          const dataTable =\n",
              "            await google.colab.kernel.invokeFunction('convertToInteractive',\n",
              "                                                     [key], {});\n",
              "          if (!dataTable) return;\n",
              "\n",
              "          const docLinkHtml = 'Like what you see? Visit the ' +\n",
              "            '<a target=\"_blank\" href=https://colab.research.google.com/notebooks/data_table.ipynb>data table notebook</a>'\n",
              "            + ' to learn more about interactive tables.';\n",
              "          element.innerHTML = '';\n",
              "          dataTable['output_type'] = 'display_data';\n",
              "          await google.colab.output.renderOutput(dataTable, element);\n",
              "          const docLink = document.createElement('div');\n",
              "          docLink.innerHTML = docLinkHtml;\n",
              "          element.appendChild(docLink);\n",
              "        }\n",
              "      </script>\n",
              "    </div>\n",
              "  </div>\n",
              "  "
            ]
          },
          "metadata": {},
          "execution_count": 136
        }
      ]
    }
  ]
}